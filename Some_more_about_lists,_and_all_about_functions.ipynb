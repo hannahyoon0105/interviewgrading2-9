{
  "nbformat": 4,
  "nbformat_minor": 0,
  "metadata": {
    "colab": {
      "provenance": []
    },
    "kernelspec": {
      "name": "python3",
      "display_name": "Python 3"
    },
    "language_info": {
      "name": "python"
    }
  },
  "cells": [
    {
      "cell_type": "markdown",
      "source": [
        "### Review from Tuesday\n",
        "\n",
        "- Lists"
      ],
      "metadata": {
        "id": "K0x4Jpukrcoc"
      }
    },
    {
      "cell_type": "code",
      "source": [
        "# how to check if something is in a List\n",
        "\n",
        "\n",
        "# This is what I called the list when I started to make the notebook. But it is BAD! Why?\n",
        "L = [1, 2, 3]\n",
        "\n",
        "# Let's try that again ... \n",
        "three_numbers = [1, 2, 3]   \n",
        "\n",
        "2 in three_numbers\n",
        "3 in three_numbers\n",
        "8 in three_numbers"
      ],
      "metadata": {
        "colab": {
          "base_uri": "https://localhost:8080/"
        },
        "id": "b9dKhlvSLUEA",
        "outputId": "d1ae870a-5a04-4196-cb2d-226cd1908c75"
      },
      "execution_count": null,
      "outputs": [
        {
          "output_type": "execute_result",
          "data": {
            "text/plain": [
              "False"
            ]
          },
          "metadata": {},
          "execution_count": 3
        }
      ]
    },
    {
      "cell_type": "markdown",
      "source": [
        "- Write a function to count the number of unique data types in a list.\n",
        "- Hint: use \"in\""
      ],
      "metadata": {
        "id": "1ArRQSN0LsX-"
      }
    },
    {
      "cell_type": "code",
      "source": [
        "from typing import List\n",
        "\n",
        "def count_number_of_unique_data_types(a_list: List) -> int:\n",
        "    counter: int = 0\n",
        "    types_so_far: List = []\n",
        "    for element in a_list:\n",
        "        if type(element) not in types_so_far:\n",
        "            types_so_far.append(type(element))\n",
        "            counter += 1\n",
        "         \n",
        "    return counter\n",
        "\n",
        "count_number_of_unique_data_types([bool, \"e\", 4.3, \"4\"])"
      ],
      "metadata": {
        "id": "R0Sb80kvzdqW",
        "colab": {
          "base_uri": "https://localhost:8080/"
        },
        "outputId": "f50aba80-2627-45b6-a5fd-9c0c6b12387e"
      },
      "execution_count": null,
      "outputs": [
        {
          "output_type": "execute_result",
          "data": {
            "text/plain": [
              "3"
            ]
          },
          "metadata": {},
          "execution_count": 5
        }
      ]
    },
    {
      "cell_type": "markdown",
      "source": [
        "### Unpacking a list\n",
        "\n",
        "- Python has some neat syntax that allows you to \"unpack\" a list into variables."
      ],
      "metadata": {
        "id": "3HMhRvH31RPD"
      }
    },
    {
      "cell_type": "code",
      "source": [
        "cat = ['fat', 'orange', 'loud']\n",
        "size, color, disposition = cat\n",
        "print(disposition)"
      ],
      "metadata": {
        "id": "sjgEhZ0i1PvP",
        "colab": {
          "base_uri": "https://localhost:8080/"
        },
        "outputId": "ef2a9963-695f-42e3-eebe-964305c9b29d"
      },
      "execution_count": null,
      "outputs": [
        {
          "output_type": "stream",
          "name": "stdout",
          "text": [
            "loud\n"
          ]
        }
      ]
    },
    {
      "cell_type": "code",
      "source": [
        "from typing import List\n",
        "\n",
        "my_list = []\n",
        "my_list: List = 3\n",
        "my_list + 3\n",
        "\n",
        "assert type(my_list) != int"
      ],
      "metadata": {
        "colab": {
          "base_uri": "https://localhost:8080/",
          "height": 204
        },
        "id": "FdhVRVuNuhNj",
        "outputId": "62e236e6-16ba-4aff-f422-a76debd7b7a5"
      },
      "execution_count": null,
      "outputs": [
        {
          "output_type": "error",
          "ename": "AssertionError",
          "evalue": "ignored",
          "traceback": [
            "\u001b[0;31m---------------------------------------------------------------------------\u001b[0m",
            "\u001b[0;31mAssertionError\u001b[0m                            Traceback (most recent call last)",
            "\u001b[0;32m<ipython-input-8-744435f1a52c>\u001b[0m in \u001b[0;36m<module>\u001b[0;34m\u001b[0m\n\u001b[1;32m      5\u001b[0m \u001b[0mmy_list\u001b[0m \u001b[0;34m+\u001b[0m \u001b[0;36m3\u001b[0m\u001b[0;34m\u001b[0m\u001b[0;34m\u001b[0m\u001b[0m\n\u001b[1;32m      6\u001b[0m \u001b[0;34m\u001b[0m\u001b[0m\n\u001b[0;32m----> 7\u001b[0;31m \u001b[0;32massert\u001b[0m \u001b[0mtype\u001b[0m\u001b[0;34m(\u001b[0m\u001b[0mmy_list\u001b[0m\u001b[0;34m)\u001b[0m \u001b[0;34m!=\u001b[0m \u001b[0mint\u001b[0m\u001b[0;34m\u001b[0m\u001b[0;34m\u001b[0m\u001b[0m\n\u001b[0m",
            "\u001b[0;31mAssertionError\u001b[0m: "
          ]
        }
      ]
    },
    {
      "cell_type": "markdown",
      "source": [
        "### Sets \n",
        "\n",
        "Checking if something is in a list over an over gets annoying. Sets can help. More broadly, picking good data types can make your life way easier as a programmer. Pay attention to types! It's half the battle."
      ],
      "metadata": {
        "id": "T9PxqX6_JPbO"
      }
    },
    {
      "cell_type": "markdown",
      "source": [
        "- A set is an unordered collections of objects\n",
        "- You create a set like this"
      ],
      "metadata": {
        "id": "U2IB33zOMd9I"
      }
    },
    {
      "cell_type": "code",
      "source": [
        "animals = set()\n",
        "animals.add(\"dog\")\n",
        "animals.add(\"cat\")\n",
        "animals.add(\"dog\")\n",
        "\n",
        "animals"
      ],
      "metadata": {
        "id": "KEO69eB6Jdu2",
        "colab": {
          "base_uri": "https://localhost:8080/"
        },
        "outputId": "80161161-d949-45cd-8e80-6c9921145e6a"
      },
      "execution_count": null,
      "outputs": [
        {
          "output_type": "execute_result",
          "data": {
            "text/plain": [
              "{'cat', 'dog'}"
            ]
          },
          "metadata": {},
          "execution_count": 11
        }
      ]
    },
    {
      "cell_type": "code",
      "source": [
        "E = {1, 2, 3, 4, 4}\n",
        "E"
      ],
      "metadata": {
        "colab": {
          "base_uri": "https://localhost:8080/"
        },
        "id": "sHH5UxNAwh6L",
        "outputId": "67f2a297-57d2-45f3-9c94-818d615f413a"
      },
      "execution_count": null,
      "outputs": [
        {
          "output_type": "execute_result",
          "data": {
            "text/plain": [
              "{1, 2, 3, 4}"
            ]
          },
          "metadata": {},
          "execution_count": 14
        }
      ]
    },
    {
      "cell_type": "markdown",
      "source": [
        "- What do you think is in the set above? Try it!"
      ],
      "metadata": {
        "id": "pitMPEs1Jmt3"
      }
    },
    {
      "cell_type": "code",
      "source": [
        "# Your code here"
      ],
      "metadata": {
        "id": "cp492jI1JrHW"
      },
      "execution_count": null,
      "outputs": []
    },
    {
      "cell_type": "markdown",
      "source": [
        "- What happens if you pass a list to the function set?"
      ],
      "metadata": {
        "id": "5yZ34f8dM4Fi"
      }
    },
    {
      "cell_type": "code",
      "source": [
        "set([\"dog\", \"cat\", \"dog\"])   # what will happen ?"
      ],
      "metadata": {
        "id": "zEdTjejAM1LV",
        "colab": {
          "base_uri": "https://localhost:8080/"
        },
        "outputId": "14d3acdf-a799-4649-b70a-f8366524060e"
      },
      "execution_count": null,
      "outputs": [
        {
          "output_type": "execute_result",
          "data": {
            "text/plain": [
              "{'cat', 'dog'}"
            ]
          },
          "metadata": {},
          "execution_count": 12
        }
      ]
    },
    {
      "cell_type": "code",
      "source": [
        "# You can go the other way too \n",
        "\n",
        "list(animals)"
      ],
      "metadata": {
        "id": "ubUiGwimWwov",
        "colab": {
          "base_uri": "https://localhost:8080/"
        },
        "outputId": "4e938c07-5c83-4a52-c520-d170d7d76a6a"
      },
      "execution_count": null,
      "outputs": [
        {
          "output_type": "execute_result",
          "data": {
            "text/plain": [
              "['cat', 'dog']"
            ]
          },
          "metadata": {},
          "execution_count": 13
        }
      ]
    },
    {
      "cell_type": "markdown",
      "source": [
        "Lists and sets can both be described as a **collection**. A collection is like it sounds, a collection of things."
      ],
      "metadata": {
        "id": "yzEWNvKLM9x1"
      }
    },
    {
      "cell_type": "code",
      "source": [
        "# the syntax to make a set is a little different \n",
        "\n",
        "majors = set()\n",
        "majors.add(\"Biology\")\n",
        "majors.add(\"English\")\n",
        "majors.add(\"Business\")"
      ],
      "metadata": {
        "id": "qcvIETS3Nsxb"
      },
      "execution_count": null,
      "outputs": []
    },
    {
      "cell_type": "markdown",
      "source": [
        "Try writing the same as above but as a list"
      ],
      "metadata": {
        "id": "kbGTkTAuN8pC"
      }
    },
    {
      "cell_type": "code",
      "source": [
        "# Your code here"
      ],
      "metadata": {
        "id": "Y1gvFgj_N-6W"
      },
      "execution_count": null,
      "outputs": []
    },
    {
      "cell_type": "markdown",
      "source": [
        "### Interview grading \n",
        "\n",
        "For interview grading today, try correcting the pair sum count code from Tuesday so that it returns the correct answer. Hint: use sets. \n",
        "\n",
        "This is also a good chance to learn about some of practical tools in modern programming. \n",
        "\n",
        "1. Instead of turning in text to Canvas work with a partner to copy your code into a `.py` file. A `.py` file is a text file that ends in `.py` and runs python code. It stores Python code that runs. You should do this using a text editor like Sublime Text or VSCode. A text editor edits text files.\n",
        "2. One person from your pair should make a repo on GitHub, invite their partner to join, and upload the pairs `.py` file to the repo. Turn in a link to your GitHub repo on Canvas."
      ],
      "metadata": {
        "id": "vH9euxRRKAtY"
      }
    },
    {
      "cell_type": "code",
      "source": [
        "from typing import List  # this is needed for one of the type hints \n",
        "\n",
        "\n",
        "def pair_sum_count(numbers: List[int], A: int):\n",
        "    '''\n",
        "    Count the unique pairs in numbers that add up to A\n",
        "\n",
        "    Inputs:\n",
        "        - numbers: a list of numbers\n",
        "        - A: a number\n",
        "    Output:\n",
        "        - the count of unique pairs in the numbers list that add up to A\n",
        "    '''\n",
        "    total = set()\n",
        "    for number_one in numbers:\n",
        "        for number_two in numbers:\n",
        "            if number_one + number_two == A:\n",
        "                number_add = 0\n",
        "                if number_one > number_two:\n",
        "                  number_add = number_one\n",
        "                else:\n",
        "                  number_add = number_two\n",
        "                total.add(number_add)\n",
        "\n",
        "    return len(total)\n",
        "\n",
        "pair_sum_count([1,2,3,4,5,6,7], 7)"
      ],
      "metadata": {
        "colab": {
          "base_uri": "https://localhost:8080/"
        },
        "id": "BOPiu7QyuQXK",
        "outputId": "8ac1b6cd-e6db-4079-f2a8-9f1e9acddba5"
      },
      "execution_count": 8,
      "outputs": [
        {
          "output_type": "execute_result",
          "data": {
            "text/plain": [
              "3"
            ]
          },
          "metadata": {},
          "execution_count": 8
        }
      ]
    },
    {
      "cell_type": "markdown",
      "source": [
        "#### Galaxy brain addition\n",
        "\n",
        "- [Galaxy Brain](https://knowyourmeme.com/memes/galaxy-brain)\n",
        "- Do the youth still use Galaxy Brain?"
      ],
      "metadata": {
        "id": "15zSNy_Tw-hv"
      }
    },
    {
      "cell_type": "markdown",
      "source": [
        "- What is addition? \n",
        "- No really, like what is addition?\n",
        "- What does it mean to add two lists?\n",
        "- What do you think will happen? "
      ],
      "metadata": {
        "id": "C27SjALqv2wx"
      }
    },
    {
      "cell_type": "code",
      "source": [
        "# test your hypothesis here"
      ],
      "metadata": {
        "id": "xpfJ52GPv3mu"
      },
      "execution_count": null,
      "outputs": []
    },
    {
      "cell_type": "markdown",
      "source": [
        "- Can you make a list of lists in Python? Try it!"
      ],
      "metadata": {
        "id": "3VvaaAS3vUkg"
      }
    },
    {
      "cell_type": "code",
      "source": [
        "# your code here"
      ],
      "metadata": {
        "id": "SnlG2KNPvVnq"
      },
      "execution_count": null,
      "outputs": []
    },
    {
      "cell_type": "markdown",
      "source": [
        "- Getting the length of a list"
      ],
      "metadata": {
        "id": "9C6M9tQHvXcG"
      }
    },
    {
      "cell_type": "code",
      "source": [
        "spam = [\"cat\", \"bat\", \"dog\", \"cat\"]\n",
        "len(spam) # get the length of spam"
      ],
      "metadata": {
        "colab": {
          "base_uri": "https://localhost:8080/"
        },
        "id": "8k2Zkr_30kC0",
        "outputId": "cd7afa83-ff29-446b-aed1-8c4b4b4be341"
      },
      "execution_count": null,
      "outputs": [
        {
          "output_type": "execute_result",
          "data": {
            "text/plain": [
              "4"
            ]
          },
          "metadata": {},
          "execution_count": 3
        }
      ]
    },
    {
      "cell_type": "markdown",
      "source": [
        "### Quick aside: format strings"
      ],
      "metadata": {
        "id": "nvoVB6nsThOP"
      }
    },
    {
      "cell_type": "code",
      "source": [
        "name = \"Fausta\"\n",
        "template = f\"Hi, {name}\" # notice the f\n",
        "template"
      ],
      "metadata": {
        "colab": {
          "base_uri": "https://localhost:8080/",
          "height": 35
        },
        "id": "UHRWfMFiTi_f",
        "outputId": "a232870e-0221-4b62-874a-825cc7e14235"
      },
      "execution_count": null,
      "outputs": [
        {
          "output_type": "execute_result",
          "data": {
            "text/plain": [
              "'Hi, Fausta'"
            ],
            "application/vnd.google.colaboratory.intrinsic+json": {
              "type": "string"
            }
          },
          "metadata": {},
          "execution_count": 11
        }
      ]
    },
    {
      "cell_type": "code",
      "source": [
        "## Write a format string that prints a students GPA \n",
        "\n",
        "# YOUR CODE HERE\n",
        "\n",
        "# Why is this better than concatenating a number and a string?"
      ],
      "metadata": {
        "id": "hngK0wDxTvFf"
      },
      "execution_count": null,
      "outputs": []
    },
    {
      "cell_type": "markdown",
      "source": [
        "Quick aside: division"
      ],
      "metadata": {
        "id": "EaXfAOAZghQQ"
      }
    },
    {
      "cell_type": "code",
      "source": [
        "4/2 == 2\n",
        "\n",
        "3/4"
      ],
      "metadata": {
        "colab": {
          "base_uri": "https://localhost:8080/"
        },
        "id": "xmks0xlTggtW",
        "outputId": "080f2178-99bc-4ac8-b1cd-3a45ea676116"
      },
      "execution_count": null,
      "outputs": [
        {
          "output_type": "execute_result",
          "data": {
            "text/plain": [
              "0.75"
            ]
          },
          "metadata": {},
          "execution_count": 15
        }
      ]
    },
    {
      "cell_type": "markdown",
      "source": [
        "Quick aside: integers and floats"
      ],
      "metadata": {
        "id": "wO3CXaUPg7GK"
      }
    },
    {
      "cell_type": "code",
      "source": [
        "a = 4 \n",
        "type(a)\n",
        "\n",
        "b = 6.2\n",
        "type(b)"
      ],
      "metadata": {
        "colab": {
          "base_uri": "https://localhost:8080/"
        },
        "id": "XCaHVPYgg9e_",
        "outputId": "1a25e4cc-17ec-48d7-f5c2-f279ff76598d"
      },
      "execution_count": null,
      "outputs": [
        {
          "output_type": "execute_result",
          "data": {
            "text/plain": [
              "float"
            ]
          },
          "metadata": {},
          "execution_count": 16
        }
      ]
    },
    {
      "cell_type": "code",
      "source": [
        "b.is_integer()"
      ],
      "metadata": {
        "colab": {
          "base_uri": "https://localhost:8080/"
        },
        "id": "J1C2LVWzhAzz",
        "outputId": "73d57473-ed0a-4c13-cb2f-7d776a703e2e"
      },
      "execution_count": null,
      "outputs": [
        {
          "output_type": "execute_result",
          "data": {
            "text/plain": [
              "False"
            ]
          },
          "metadata": {},
          "execution_count": 17
        }
      ]
    },
    {
      "cell_type": "code",
      "source": [
        "(8/3).is_integer()"
      ],
      "metadata": {
        "colab": {
          "base_uri": "https://localhost:8080/"
        },
        "id": "1o51J1ZMhDJO",
        "outputId": "820fc22d-6daa-486d-8c29-9647fa77c6b4"
      },
      "execution_count": null,
      "outputs": [
        {
          "output_type": "execute_result",
          "data": {
            "text/plain": [
              "False"
            ]
          },
          "metadata": {},
          "execution_count": 18
        }
      ]
    },
    {
      "cell_type": "markdown",
      "source": [
        "### Functions\n",
        "\n",
        "- We've seen functions for a few weeks but never really focused on them directly.\n",
        "- This is because you need to know how to use functions to get started.\n",
        "- In programming, this is sometimed described as a \"head first\" approach, because you learn to swim by being tossed head first into the pool. \n",
        "- It's a good way to learn fast, but now it is time to take a slower look at functions"
      ],
      "metadata": {
        "id": "vKaWgJi8QD78"
      }
    },
    {
      "cell_type": "markdown",
      "source": [
        "### Why functions?"
      ],
      "metadata": {
        "id": "4fXEDXmXQm1F"
      }
    },
    {
      "cell_type": "code",
      "source": [
        "print(\"Hi Fausta\")\n",
        "print(\"Welcome to INFO 2430\")\n",
        "\n",
        "\n",
        "print(\"Hi Jeremy\")\n",
        "print(\"Welcome to INFO 2430\")\n",
        "\n",
        "\n",
        "print(\"Hi Yanick\")\n",
        "print(\"Welcome to INFO 2430\")"
      ],
      "metadata": {
        "colab": {
          "base_uri": "https://localhost:8080/"
        },
        "id": "IR9w4GHgQpkh",
        "outputId": "9df3fc2e-1acb-4988-8c6e-96f688b05abd"
      },
      "execution_count": null,
      "outputs": [
        {
          "output_type": "stream",
          "name": "stdout",
          "text": [
            "Hi Fausta\n",
            "Welcome to INFO 2430\n",
            "Hi Jeremy\n",
            "Welcome to INFO 2430\n",
            "Hi Yanick\n",
            "Welcome to INFO 2430\n"
          ]
        }
      ]
    },
    {
      "cell_type": "code",
      "source": [
        "def greet(name: str) -> str:\n",
        "    print(f\"Hi {name}\")\n",
        "    print(\"Welcome to INFO 2430\")\n",
        "    # This function is missing something. \n",
        "    # Finish the funciton"
      ],
      "metadata": {
        "id": "ErI298ApQs9Z"
      },
      "execution_count": null,
      "outputs": []
    },
    {
      "cell_type": "markdown",
      "source": [
        "### Fun with terms\n",
        "\n",
        "- It is easy to get mixed up when talking about functions \n",
        "- Keeping your terms straight helps a lot\n",
        "\n",
        "- **Define**\n",
        "- **Call**\n",
        "- **Pass**\n",
        "- **Parameter**\n",
        "- **Argument**\n",
        "\n",
        "\n",
        "- Use these terms for the function above"
      ],
      "metadata": {
        "id": "d8GiCjNoR6Gg"
      }
    },
    {
      "cell_type": "markdown",
      "source": [
        "### What is return doing?\n",
        "\n",
        "- This is how I grade your homeworks ... "
      ],
      "metadata": {
        "id": "yL3poJ8_SwWp"
      }
    },
    {
      "cell_type": "code",
      "source": [
        "def add_one(number: int) -> int:\n",
        "  return number + 1\n",
        "\n",
        "a = add_one(2)\n",
        "b = add_one(a)\n",
        "c = add_one(b)\n",
        "\n",
        "# what is c?"
      ],
      "metadata": {
        "id": "DlqoyDBIS1j-"
      },
      "execution_count": null,
      "outputs": []
    },
    {
      "cell_type": "markdown",
      "source": [
        "### Keyword arguments\n",
        "\n",
        "- When **calling** a function you can use keyword arguments\n",
        "- I like keyword arguments\n",
        "- It prevents getting mixed up"
      ],
      "metadata": {
        "id": "dmhRBAd2TIs-"
      }
    },
    {
      "cell_type": "code",
      "source": [
        "def greet(name: str, course: str): \n",
        "    print(f\"Hi {name}\")\n",
        "    print(f\"Welcome to INFO {course}\")\n",
        "\n",
        "greet(name=\"Joe\", course=\"3220\")\n",
        "\n",
        "greet(course=\"3220\", name=\"Joe\")"
      ],
      "metadata": {
        "colab": {
          "base_uri": "https://localhost:8080/"
        },
        "id": "jJAE3UG-TNOy",
        "outputId": "1f12cc78-d56f-4330-99ed-98ca6961341f"
      },
      "execution_count": null,
      "outputs": [
        {
          "output_type": "stream",
          "name": "stdout",
          "text": [
            "Hi Joe\n",
            "Welcome to INFO 3220\n",
            "Hi Joe\n",
            "Welcome to INFO 3220\n"
          ]
        }
      ]
    },
    {
      "cell_type": "code",
      "source": [],
      "metadata": {
        "id": "gQ2dEWIIhZfx"
      },
      "execution_count": null,
      "outputs": []
    }
  ]
}